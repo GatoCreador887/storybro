{
  "nbformat": 4,
  "nbformat_minor": 0,
  "metadata": {
    "colab": {
      "name": "Cool Storybro Notebook.ipynb",
      "provenance": []
    },
    "kernelspec": {
      "name": "python3",
      "display_name": "Python 3"
    }
  },
  "cells": [
    {
      "cell_type": "markdown",
      "metadata": {
        "id": "ermWruAn9Z1U",
        "colab_type": "text"
      },
      "source": [
        "# StoryBro\n",
        "\n",
        "To run:\n",
        "\n",
        " - Press Ctrl+F9 \n",
        "\n",
        " The game is in the bottom cell\n",
        "\n",
        "\n",
        "TODO: Make it look nice"
      ]
    },
    {
      "cell_type": "code",
      "metadata": {
        "id": "Ao8EnBoL6Cjn",
        "colab_type": "code",
        "colab": {}
      },
      "source": [
        "!pip install --upgrade pip jsonschema "
      ],
      "execution_count": 0,
      "outputs": []
    },
    {
      "cell_type": "code",
      "metadata": {
        "id": "L3lOUzqV6Eif",
        "colab_type": "code",
        "colab": {}
      },
      "source": [
        "!apt install aria2"
      ],
      "execution_count": 0,
      "outputs": []
    },
    {
      "cell_type": "code",
      "metadata": {
        "id": "orNfXiNH4G0e",
        "colab_type": "code",
        "colab": {}
      },
      "source": [
        "!pip install git+https://github.com/storybro/storybro.git"
      ],
      "execution_count": 0,
      "outputs": []
    },
    {
      "cell_type": "code",
      "metadata": {
        "id": "hGN6Lw-P8kOn",
        "colab_type": "code",
        "colab": {}
      },
      "source": [
        "!storybro models get model_v5"
      ],
      "execution_count": 0,
      "outputs": []
    },
    {
      "cell_type": "code",
      "metadata": {
        "id": "9GyIGND99IOp",
        "colab_type": "code",
        "colab": {}
      },
      "source": [
        "!storybro play story"
      ],
      "execution_count": 0,
      "outputs": []
    }
  ]
}